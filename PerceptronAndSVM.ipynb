{
 "cells": [
  {
   "cell_type": "markdown",
   "metadata": {},
   "source": [
    "#### Import Dependencies "
   ]
  },
  {
   "cell_type": "code",
   "execution_count": 1,
   "metadata": {},
   "outputs": [],
   "source": [
    "import numpy as np\n",
    "import matplotlib.pyplot as plt\n",
    "import sklearn\n",
    "from sklearn.preprocessing import StandardScaler"
   ]
  },
  {
   "cell_type": "markdown",
   "metadata": {},
   "source": [
    "#### Read Data "
   ]
  },
  {
   "cell_type": "code",
   "execution_count": 2,
   "metadata": {},
   "outputs": [],
   "source": [
    "X_train = np.asarray(np.load(\"X_train.npy\").tolist()).T\n",
    "X_test = np.asarray(np.load(\"X_test.npy\").tolist()).T\n",
    "y_train = np.asarray(np.load(\"Y_train.npy\").tolist())[:, np.newaxis].T\n",
    "y_test = np.asarray(np.load(\"Y_test.npy\").tolist())[:, np.newaxis].T"
   ]
  },
  {
   "cell_type": "markdown",
   "metadata": {},
   "source": [
    "#### Data Preprocessing "
   ]
  },
  {
   "cell_type": "code",
   "execution_count": 3,
   "metadata": {},
   "outputs": [],
   "source": [
    "# Feature Scaling\n",
    "# scaler = StandardScaler()\n",
    "# scaler.fit(X_train.T)\n",
    "# X_train = scaler.transform(X_train.T).T\n",
    "# X_test = scaler.transform(X_test.T).T\n",
    "# Append Ones to X_train and X_test\n",
    "X_train = np.concatenate((np.ones((1, X_train.shape[1])), X_train), axis=0)\n",
    "X_test = np.concatenate((np.ones((1, X_test.shape[1])), X_test), axis=0)"
   ]
  },
  {
   "cell_type": "code",
   "execution_count": 4,
   "metadata": {},
   "outputs": [
    {
     "name": "stdout",
     "output_type": "stream",
     "text": [
      "X_train: (4, 10000)\n",
      "y_train: (1, 10000)\n",
      "X_test:  (4, 500)\n",
      "y_test:  (1, 500)\n"
     ]
    }
   ],
   "source": [
    "print(\"X_train: \" + str(X_train.shape))\n",
    "print(\"y_train: \" + str(y_train.shape))\n",
    "print(\"X_test:  \" + str(X_test.shape))\n",
    "print(\"y_test:  \" + str(y_test.shape))"
   ]
  },
  {
   "cell_type": "markdown",
   "metadata": {},
   "source": [
    "#### Perceptron Algorithm "
   ]
  },
  {
   "cell_type": "code",
   "execution_count": 5,
   "metadata": {},
   "outputs": [],
   "source": [
    "class Perceptron:\n",
    "    def __init__(self, n_epochs, input_dim, learning_rate=1):\n",
    "        self.n_epochs = n_epochs\n",
    "        self.input_dim = input_dim\n",
    "        self.learning_rate = learning_rate\n",
    "        self.weights = np.zeros((input_dim, 1))\n",
    "        self.true_risks = []\n",
    "        self.empirical_risks = []\n",
    "\n",
    "    def predict(self, X):\n",
    "        return np.sign(self.weights.T @ X)\n",
    "\n",
    "    def loss(self, X, y):\n",
    "        return (self.predict(X) != y).mean()\n",
    "\n",
    "    def train(self, X_train, y_train, X_test, y_test, verbose=False):\n",
    "        self.true_risks = []\n",
    "        self.empirical_risks = []\n",
    "        for epoch in range(1, self.n_epochs+1):\n",
    "            # Find the wrong sample\n",
    "            for x_sample, y_sample in zip(X_train.T, y_train.T):\n",
    "                x_sample = x_sample[:, np.newaxis]\n",
    "                prediction = self.predict(x_sample)\n",
    "                if y_sample != prediction:  # Is this sample predeicted wrongly?\n",
    "                    # Learn!\n",
    "                    self.weights += self.learning_rate * y_sample * x_sample\n",
    "                    break\n",
    "                # All samples classified correctly. Time to return!\n",
    "            if epoch % 500 == 0:\n",
    "                true_risk = self.loss(X_test, y_test)\n",
    "                empirical_risk = self.loss(X_train, y_train)\n",
    "                self.true_risks.append((epoch ,true_risk))\n",
    "                self.empirical_risks.append((epoch ,empirical_risk))\n",
    "                if verbose:\n",
    "                    print(\n",
    "                        \"{:5d}: train loss = {:.4f} | test loss = {:.4f}\".format(epoch, empirical_risk, true_risk))\n",
    "        return\n",
    "\n",
    "    def plot_risks(self):\n",
    "        x, y=zip(*self.empirical_risks)\n",
    "        plt.plot(x, y, label='Empirical')\n",
    "        x, y=zip(*self.true_risks)\n",
    "        plt.plot(x, y, label='True')\n",
    "        plt.ylabel('loss')\n",
    "        plt.xlabel('epoch')\n",
    "        plt.legend()"
   ]
  },
  {
   "cell_type": "code",
   "execution_count": 6,
   "metadata": {
    "scrolled": true
   },
   "outputs": [
    {
     "name": "stdout",
     "output_type": "stream",
     "text": [
      "  500: train loss = 0.1447 | test loss = 0.1640\n",
      " 1000: train loss = 0.9013 | test loss = 0.8960\n",
      " 1500: train loss = 0.8973 | test loss = 0.8960\n",
      " 2000: train loss = 0.7754 | test loss = 0.7900\n",
      " 2500: train loss = 0.1401 | test loss = 0.1600\n",
      " 3000: train loss = 0.8927 | test loss = 0.8860\n",
      " 3500: train loss = 0.1350 | test loss = 0.1540\n",
      " 4000: train loss = 0.8707 | test loss = 0.8600\n",
      " 4500: train loss = 0.1365 | test loss = 0.1580\n",
      " 5000: train loss = 0.1277 | test loss = 0.1480\n",
      " 5500: train loss = 0.1241 | test loss = 0.1400\n",
      " 6000: train loss = 0.3468 | test loss = 0.3740\n",
      " 6500: train loss = 0.8612 | test loss = 0.8480\n",
      " 7000: train loss = 0.1233 | test loss = 0.1440\n",
      " 7500: train loss = 0.1121 | test loss = 0.1340\n",
      " 8000: train loss = 0.8542 | test loss = 0.8340\n",
      " 8500: train loss = 0.8464 | test loss = 0.8260\n",
      " 9000: train loss = 0.1040 | test loss = 0.1180\n",
      " 9500: train loss = 0.1143 | test loss = 0.1360\n",
      "10000: train loss = 0.0962 | test loss = 0.1140\n"
     ]
    },
    {
     "data": {
      "image/png": "[encoded data removed]",
      "text/plain": [
       "<Figure size 432x288 with 1 Axes>"
      ]
     },
     "metadata": {
      "needs_background": "light"
     },
     "output_type": "display_data"
    }
   ],
   "source": [
    "clf = Perceptron(10000, 4)\n",
    "clf.train(X_train, y_train, X_test, y_test, verbose=True)\n",
    "clf.plot_risks()"
   ]
  },
  {
   "cell_type": "code",
   "execution_count": 7,
   "metadata": {},
   "outputs": [
    {
     "name": "stdout",
     "output_type": "stream",
     "text": [
      "[[  3014.        ]\n",
      " [-13733.47372217]\n",
      " [  -896.86018078]\n",
      " [ 54055.68993876]]\n"
     ]
    }
   ],
   "source": [
    "print(clf.weights)"
   ]
  },
  {
   "cell_type": "markdown",
   "metadata": {},
   "source": [
    "##### Test Perceptron with sklearn "
   ]
  },
  {
   "cell_type": "code",
   "execution_count": 8,
   "metadata": {},
   "outputs": [],
   "source": [
    "from sklearn.linear_model import Perceptron as SKPerceptron"
   ]
  },
  {
   "cell_type": "code",
   "execution_count": 9,
   "metadata": {},
   "outputs": [],
   "source": [
    "SK_X_train = X_train[1:, :].T\n",
    "SK_y_train = y_train.T\n",
    "SK_X_test = X_test[1:, :].T\n",
    "SK_y_test = y_test.T"
   ]
  },
  {
   "cell_type": "code",
   "execution_count": 10,
   "metadata": {},
   "outputs": [
    {
     "name": "stderr",
     "output_type": "stream",
     "text": [
      "/home/alireza/anaconda3/lib/python3.7/site-packages/sklearn/utils/validation.py:761: DataConversionWarning: A column-vector y was passed when a 1d array was expected. Please change the shape of y to (n_samples, ), for example using ravel().\n",
      "  y = column_or_1d(y, warn=True)\n"
     ]
    },
    {
     "data": {
      "text/plain": [
       "Perceptron(alpha=0.0001, class_weight=None, early_stopping=False, eta0=1.0,\n",
       "      fit_intercept=True, max_iter=10000, n_iter=None, n_iter_no_change=5,\n",
       "      n_jobs=None, penalty=None, random_state=42, shuffle=True, tol=0.001,\n",
       "      validation_fraction=0.1, verbose=0, warm_start=False)"
      ]
     },
     "execution_count": 10,
     "metadata": {},
     "output_type": "execute_result"
    }
   ],
   "source": [
    "clf = SKPerceptron(tol=1e-3, random_state=42, max_iter=10000)\n",
    "clf.fit(SK_X_train, SK_y_train)"
   ]
  },
  {
   "cell_type": "code",
   "execution_count": 11,
   "metadata": {
    "scrolled": true
   },
   "outputs": [
    {
     "name": "stdout",
     "output_type": "stream",
     "text": [
      "Score on train set: 0.9555\n",
      "Score on test set: 0.946\n"
     ]
    }
   ],
   "source": [
    "print('Score on train set: ' + str(clf.score(SK_X_train, SK_y_train)))\n",
    "print('Score on test set: ' + str(clf.score(SK_X_test, SK_y_test)))"
   ]
  },
  {
   "cell_type": "code",
   "execution_count": 12,
   "metadata": {},
   "outputs": [
    {
     "name": "stdout",
     "output_type": "stream",
     "text": [
      "[1337.]\n",
      "[[ -547.27905604 -1851.25522011 82291.71967533]]\n"
     ]
    }
   ],
   "source": [
    "print(clf.intercept_)\n",
    "print(clf.coef_)"
   ]
  },
  {
   "cell_type": "markdown",
   "metadata": {},
   "source": [
    "##### With ‫ψ‬"
   ]
  },
  {
   "cell_type": "code",
   "execution_count": 13,
   "metadata": {},
   "outputs": [],
   "source": [
    "X_train[3] = X_train[3] ** 3\n",
    "X_test[3] = X_test[3] ** 3"
   ]
  },
  {
   "cell_type": "code",
   "execution_count": 14,
   "metadata": {},
   "outputs": [
    {
     "name": "stdout",
     "output_type": "stream",
     "text": [
      "  500: train loss = 0.0049 | test loss = 0.0040\n",
      " 1000: train loss = 0.0412 | test loss = 0.0500\n",
      " 1500: train loss = 0.0205 | test loss = 0.0220\n",
      " 2000: train loss = 0.0007 | test loss = 0.0000\n",
      " 2500: train loss = 0.0005 | test loss = 0.0000\n",
      " 3000: train loss = 0.0008 | test loss = 0.0000\n",
      " 3500: train loss = 0.0115 | test loss = 0.0060\n",
      " 4000: train loss = 0.0035 | test loss = 0.0020\n",
      " 4500: train loss = 0.0031 | test loss = 0.0020\n",
      " 5000: train loss = 0.0048 | test loss = 0.0040\n",
      " 5500: train loss = 0.0022 | test loss = 0.0000\n",
      " 6000: train loss = 0.0082 | test loss = 0.0060\n",
      " 6500: train loss = 0.0150 | test loss = 0.0100\n",
      " 7000: train loss = 0.0047 | test loss = 0.0040\n",
      " 7500: train loss = 0.0016 | test loss = 0.0020\n",
      " 8000: train loss = 0.0162 | test loss = 0.0160\n",
      " 8500: train loss = 0.0057 | test loss = 0.0060\n",
      " 9000: train loss = 0.0025 | test loss = 0.0020\n",
      " 9500: train loss = 0.0055 | test loss = 0.0060\n",
      "10000: train loss = 0.0060 | test loss = 0.0060\n"
     ]
    },
    {
     "data": {
      "image/png": "[encoded data removed]",
      "text/plain": [
       "<Figure size 432x288 with 1 Axes>"
      ]
     },
     "metadata": {
      "needs_background": "light"
     },
     "output_type": "display_data"
    }
   ],
   "source": [
    "clf = Perceptron(10000, 4)\n",
    "clf.train(X_train, y_train, X_test, y_test, verbose=True)\n",
    "clf.plot_risks()"
   ]
  },
  {
   "cell_type": "code",
   "execution_count": 15,
   "metadata": {
    "scrolled": true
   },
   "outputs": [
    {
     "name": "stdout",
     "output_type": "stream",
     "text": [
      "[[   -480.        ]\n",
      " [ -80951.0837366 ]\n",
      " [-338303.05377963]\n",
      " [  56617.97846536]]\n"
     ]
    }
   ],
   "source": [
    "print(clf.weights)"
   ]
  },
  {
   "cell_type": "markdown",
   "metadata": {},
   "source": [
    "#### SVM "
   ]
  },
  {
   "cell_type": "code",
   "execution_count": 16,
   "metadata": {},
   "outputs": [],
   "source": [
    "from sklearn import svm"
   ]
  },
  {
   "cell_type": "code",
   "execution_count": 17,
   "metadata": {},
   "outputs": [],
   "source": [
    "# Reload Data\n",
    "X_train = np.asarray(np.load(\"X_train.npy\").tolist())\n",
    "X_test = np.asarray(np.load(\"X_test.npy\").tolist())\n",
    "y_train = np.asarray(np.load(\"Y_train.npy\").tolist())[:, np.newaxis]\n",
    "y_test = np.asarray(np.load(\"Y_test.npy\").tolist())[:, np.newaxis]"
   ]
  },
  {
   "cell_type": "code",
   "execution_count": 18,
   "metadata": {},
   "outputs": [],
   "source": [
    "# Feature Scaling\n",
    "# scaler = StandardScaler()\n",
    "# scaler.fit(X_train)\n",
    "# X_train = scaler.transform(X_train)\n",
    "# X_test = scaler.transform(X_test)"
   ]
  },
  {
   "cell_type": "code",
   "execution_count": 19,
   "metadata": {},
   "outputs": [
    {
     "name": "stderr",
     "output_type": "stream",
     "text": [
      "/home/alireza/anaconda3/lib/python3.7/site-packages/sklearn/utils/validation.py:761: DataConversionWarning: A column-vector y was passed when a 1d array was expected. Please change the shape of y to (n_samples, ), for example using ravel().\n",
      "  y = column_or_1d(y, warn=True)\n",
      "/home/alireza/anaconda3/lib/python3.7/site-packages/sklearn/svm/base.py:922: ConvergenceWarning: Liblinear failed to converge, increase the number of iterations.\n",
      "  \"the number of iterations.\", ConvergenceWarning)\n"
     ]
    },
    {
     "data": {
      "text/plain": [
       "LinearSVC(C=1.0, class_weight=None, dual=True, fit_intercept=True,\n",
       "     intercept_scaling=1, loss='squared_hinge', max_iter=10000,\n",
       "     multi_class='ovr', penalty='l2', random_state=None, tol=0.0001,\n",
       "     verbose=0)"
      ]
     },
     "execution_count": 19,
     "metadata": {},
     "output_type": "execute_result"
    }
   ],
   "source": [
    "# Train\n",
    "clf = svm.LinearSVC(max_iter=10000)\n",
    "clf.fit(X_train, y_train)"
   ]
  },
  {
   "cell_type": "code",
   "execution_count": 20,
   "metadata": {
    "scrolled": true
   },
   "outputs": [
    {
     "name": "stdout",
     "output_type": "stream",
     "text": [
      "[[ 0.00480541 -0.00461761  0.34222259]]\n",
      "[-2.3059962]\n"
     ]
    }
   ],
   "source": [
    "print(clf.coef_)\n",
    "print(clf.intercept_)"
   ]
  },
  {
   "cell_type": "code",
   "execution_count": 21,
   "metadata": {
    "scrolled": false
   },
   "outputs": [
    {
     "name": "stdout",
     "output_type": "stream",
     "text": [
      "Score on train set: 0.9735\n",
      "Score on test set: 0.972\n"
     ]
    }
   ],
   "source": [
    "print('Score on train set: ' + str(clf.score(X_train, y_train)))\n",
    "print('Score on test set: ' + str(clf.score(X_test, y_test)))"
   ]
  },
  {
   "cell_type": "markdown",
   "metadata": {},
   "source": [
    "##### With ‫ψ‬ ‬ "
   ]
  },
  {
   "cell_type": "code",
   "execution_count": 22,
   "metadata": {},
   "outputs": [],
   "source": [
    "X_train[:, 2] = X_train[:, 2] ** 3\n",
    "X_test[:, 2] = X_test[:, 2] ** 3"
   ]
  },
  {
   "cell_type": "code",
   "execution_count": 23,
   "metadata": {},
   "outputs": [
    {
     "name": "stderr",
     "output_type": "stream",
     "text": [
      "/home/alireza/anaconda3/lib/python3.7/site-packages/sklearn/utils/validation.py:761: DataConversionWarning: A column-vector y was passed when a 1d array was expected. Please change the shape of y to (n_samples, ), for example using ravel().\n",
      "  y = column_or_1d(y, warn=True)\n",
      "/home/alireza/anaconda3/lib/python3.7/site-packages/sklearn/svm/base.py:922: ConvergenceWarning: Liblinear failed to converge, increase the number of iterations.\n",
      "  \"the number of iterations.\", ConvergenceWarning)\n"
     ]
    },
    {
     "data": {
      "text/plain": [
       "LinearSVC(C=1.0, class_weight=None, dual=True, fit_intercept=True,\n",
       "     intercept_scaling=1, loss='squared_hinge', max_iter=10000,\n",
       "     multi_class='ovr', penalty='l2', random_state=None, tol=0.0001,\n",
       "     verbose=0)"
      ]
     },
     "execution_count": 23,
     "metadata": {},
     "output_type": "execute_result"
    }
   ],
   "source": [
    "clf = svm.LinearSVC(max_iter=10000)\n",
    "clf.fit(X_train, y_train)"
   ]
  },
  {
   "cell_type": "code",
   "execution_count": 24,
   "metadata": {
    "scrolled": true
   },
   "outputs": [
    {
     "name": "stdout",
     "output_type": "stream",
     "text": [
      "[[ 0.01276881 -0.21110163  0.03347801]]\n",
      "[-0.02382392]\n"
     ]
    }
   ],
   "source": [
    "print(clf.coef_)\n",
    "print(clf.intercept_)"
   ]
  },
  {
   "cell_type": "code",
   "execution_count": 25,
   "metadata": {
    "scrolled": true
   },
   "outputs": [
    {
     "name": "stdout",
     "output_type": "stream",
     "text": [
      "Score on train set: 0.9997\n",
      "Score on test set: 1.0\n"
     ]
    }
   ],
   "source": [
    "print('Score on train set: ' + str(clf.score(X_train, y_train)))\n",
    "print('Score on test set: ' + str(clf.score(X_test, y_test)))"
   ]
  }
 ],
 "metadata": {
  "kernelspec": {
   "display_name": "Python 3",
   "language": "python",
   "name": "python3"
  },
  "language_info": {
   "codemirror_mode": {
    "name": "ipython",
    "version": 3
   },
   "file_extension": ".py",
   "mimetype": "text/x-python",
   "name": "python",
   "nbconvert_exporter": "python",
   "pygments_lexer": "ipython3",
   "version": "3.7.1"
  },
  "toc": {
   "base_numbering": 1,
   "nav_menu": {},
   "number_sections": true,
   "sideBar": true,
   "skip_h1_title": false,
   "title_cell": "Table of Contents",
   "title_sidebar": "Contents",
   "toc_cell": false,
   "toc_position": {},
   "toc_section_display": true,
   "toc_window_display": false
  },
  "varInspector": {
   "cols": {
    "lenName": 16,
    "lenType": 16,
    "lenVar": 40
   },
   "kernels_config": {
    "python": {
     "delete_cmd_postfix": "",
     "delete_cmd_prefix": "del ",
     "library": "var_list.py",
     "varRefreshCmd": "print(var_dic_list())"
    },
    "r": {
     "delete_cmd_postfix": ") ",
     "delete_cmd_prefix": "rm(",
     "library": "var_list.r",
     "varRefreshCmd": "cat(var_dic_list()) "
    }
   },
   "types_to_exclude": [
    "module",
    "function",
    "builtin_function_or_method",
    "instance",
    "_Feature"
   ],
   "window_display": false
  }
 },
 "nbformat": 4,
 "nbformat_minor": 2
}
